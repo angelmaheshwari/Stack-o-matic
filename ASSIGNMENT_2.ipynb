{
  "nbformat": 4,
  "nbformat_minor": 0,
  "metadata": {
    "colab": {
      "provenance": [],
      "authorship_tag": "ABX9TyMtxh89xryTPd9bQV38p4fI",
      "include_colab_link": true
    },
    "kernelspec": {
      "name": "python3",
      "display_name": "Python 3"
    },
    "language_info": {
      "name": "python"
    }
  },
  "cells": [
    {
      "cell_type": "markdown",
      "metadata": {
        "id": "view-in-github",
        "colab_type": "text"
      },
      "source": [
        "<a href=\"https://colab.research.google.com/github/angelmaheshwari/Stack-o-matic/blob/main/ASSIGNMENT_2.ipynb\" target=\"_parent\"><img src=\"https://colab.research.google.com/assets/colab-badge.svg\" alt=\"Open In Colab\"/></a>"
      ]
    },
    {
      "cell_type": "code",
      "execution_count": 114,
      "metadata": {
        "id": "kvY1W03Y-3xd"
      },
      "outputs": [],
      "source": [
        "import numpy as np\n",
        "import pandas as pd\n",
        "import matplotlib.pyplot as plt\n",
        "import seaborn as sns\n",
        "import sklearn as sk"
      ]
    },
    {
      "cell_type": "code",
      "source": [
        "data = pd.read_csv('/content/extended_salary_data (1).csv')"
      ],
      "metadata": {
        "id": "KeDDffGaA-5I"
      },
      "execution_count": 115,
      "outputs": []
    },
    {
      "cell_type": "code",
      "source": [
        "##exploratory data analysis\n",
        "ax=sns.scatterplot(x='YearsExperience',y='Salary',data=data)\n",
        "\n",
        "data.describe()"
      ],
      "metadata": {
        "colab": {
          "base_uri": "https://localhost:8080/",
          "height": 732
        },
        "id": "shbg5vahDdNG",
        "outputId": "4fc4eaee-11e8-4b97-9842-088dc2f94799"
      },
      "execution_count": 116,
      "outputs": [
        {
          "output_type": "execute_result",
          "data": {
            "text/plain": [
              "       YearsExperience        Salary\n",
              "count        50.000000      50.00000\n",
              "mean          9.480000   77370.54740\n",
              "std           5.485491   28298.92442\n",
              "min           1.400000   33048.80000\n",
              "25%           4.500000   53861.88000\n",
              "50%           9.300000   78598.65000\n",
              "75%          13.350000   95356.22500\n",
              "max          19.400000  140646.44000"
            ],
            "text/html": [
              "\n",
              "  <div id=\"df-f02c73b6-f77e-4ec2-bd64-41c3b2568a5e\" class=\"colab-df-container\">\n",
              "    <div>\n",
              "<style scoped>\n",
              "    .dataframe tbody tr th:only-of-type {\n",
              "        vertical-align: middle;\n",
              "    }\n",
              "\n",
              "    .dataframe tbody tr th {\n",
              "        vertical-align: top;\n",
              "    }\n",
              "\n",
              "    .dataframe thead th {\n",
              "        text-align: right;\n",
              "    }\n",
              "</style>\n",
              "<table border=\"1\" class=\"dataframe\">\n",
              "  <thead>\n",
              "    <tr style=\"text-align: right;\">\n",
              "      <th></th>\n",
              "      <th>YearsExperience</th>\n",
              "      <th>Salary</th>\n",
              "    </tr>\n",
              "  </thead>\n",
              "  <tbody>\n",
              "    <tr>\n",
              "      <th>count</th>\n",
              "      <td>50.000000</td>\n",
              "      <td>50.00000</td>\n",
              "    </tr>\n",
              "    <tr>\n",
              "      <th>mean</th>\n",
              "      <td>9.480000</td>\n",
              "      <td>77370.54740</td>\n",
              "    </tr>\n",
              "    <tr>\n",
              "      <th>std</th>\n",
              "      <td>5.485491</td>\n",
              "      <td>28298.92442</td>\n",
              "    </tr>\n",
              "    <tr>\n",
              "      <th>min</th>\n",
              "      <td>1.400000</td>\n",
              "      <td>33048.80000</td>\n",
              "    </tr>\n",
              "    <tr>\n",
              "      <th>25%</th>\n",
              "      <td>4.500000</td>\n",
              "      <td>53861.88000</td>\n",
              "    </tr>\n",
              "    <tr>\n",
              "      <th>50%</th>\n",
              "      <td>9.300000</td>\n",
              "      <td>78598.65000</td>\n",
              "    </tr>\n",
              "    <tr>\n",
              "      <th>75%</th>\n",
              "      <td>13.350000</td>\n",
              "      <td>95356.22500</td>\n",
              "    </tr>\n",
              "    <tr>\n",
              "      <th>max</th>\n",
              "      <td>19.400000</td>\n",
              "      <td>140646.44000</td>\n",
              "    </tr>\n",
              "  </tbody>\n",
              "</table>\n",
              "</div>\n",
              "    <div class=\"colab-df-buttons\">\n",
              "\n",
              "  <div class=\"colab-df-container\">\n",
              "    <button class=\"colab-df-convert\" onclick=\"convertToInteractive('df-f02c73b6-f77e-4ec2-bd64-41c3b2568a5e')\"\n",
              "            title=\"Convert this dataframe to an interactive table.\"\n",
              "            style=\"display:none;\">\n",
              "\n",
              "  <svg xmlns=\"http://www.w3.org/2000/svg\" height=\"24px\" viewBox=\"0 -960 960 960\">\n",
              "    <path d=\"M120-120v-720h720v720H120Zm60-500h600v-160H180v160Zm220 220h160v-160H400v160Zm0 220h160v-160H400v160ZM180-400h160v-160H180v160Zm440 0h160v-160H620v160ZM180-180h160v-160H180v160Zm440 0h160v-160H620v160Z\"/>\n",
              "  </svg>\n",
              "    </button>\n",
              "\n",
              "  <style>\n",
              "    .colab-df-container {\n",
              "      display:flex;\n",
              "      gap: 12px;\n",
              "    }\n",
              "\n",
              "    .colab-df-convert {\n",
              "      background-color: #E8F0FE;\n",
              "      border: none;\n",
              "      border-radius: 50%;\n",
              "      cursor: pointer;\n",
              "      display: none;\n",
              "      fill: #1967D2;\n",
              "      height: 32px;\n",
              "      padding: 0 0 0 0;\n",
              "      width: 32px;\n",
              "    }\n",
              "\n",
              "    .colab-df-convert:hover {\n",
              "      background-color: #E2EBFA;\n",
              "      box-shadow: 0px 1px 2px rgba(60, 64, 67, 0.3), 0px 1px 3px 1px rgba(60, 64, 67, 0.15);\n",
              "      fill: #174EA6;\n",
              "    }\n",
              "\n",
              "    .colab-df-buttons div {\n",
              "      margin-bottom: 4px;\n",
              "    }\n",
              "\n",
              "    [theme=dark] .colab-df-convert {\n",
              "      background-color: #3B4455;\n",
              "      fill: #D2E3FC;\n",
              "    }\n",
              "\n",
              "    [theme=dark] .colab-df-convert:hover {\n",
              "      background-color: #434B5C;\n",
              "      box-shadow: 0px 1px 3px 1px rgba(0, 0, 0, 0.15);\n",
              "      filter: drop-shadow(0px 1px 2px rgba(0, 0, 0, 0.3));\n",
              "      fill: #FFFFFF;\n",
              "    }\n",
              "  </style>\n",
              "\n",
              "    <script>\n",
              "      const buttonEl =\n",
              "        document.querySelector('#df-f02c73b6-f77e-4ec2-bd64-41c3b2568a5e button.colab-df-convert');\n",
              "      buttonEl.style.display =\n",
              "        google.colab.kernel.accessAllowed ? 'block' : 'none';\n",
              "\n",
              "      async function convertToInteractive(key) {\n",
              "        const element = document.querySelector('#df-f02c73b6-f77e-4ec2-bd64-41c3b2568a5e');\n",
              "        const dataTable =\n",
              "          await google.colab.kernel.invokeFunction('convertToInteractive',\n",
              "                                                    [key], {});\n",
              "        if (!dataTable) return;\n",
              "\n",
              "        const docLinkHtml = 'Like what you see? Visit the ' +\n",
              "          '<a target=\"_blank\" href=https://colab.research.google.com/notebooks/data_table.ipynb>data table notebook</a>'\n",
              "          + ' to learn more about interactive tables.';\n",
              "        element.innerHTML = '';\n",
              "        dataTable['output_type'] = 'display_data';\n",
              "        await google.colab.output.renderOutput(dataTable, element);\n",
              "        const docLink = document.createElement('div');\n",
              "        docLink.innerHTML = docLinkHtml;\n",
              "        element.appendChild(docLink);\n",
              "      }\n",
              "    </script>\n",
              "  </div>\n",
              "\n",
              "\n",
              "<div id=\"df-9440c2e2-7a14-44cd-a66b-4ba08c844e5e\">\n",
              "  <button class=\"colab-df-quickchart\" onclick=\"quickchart('df-9440c2e2-7a14-44cd-a66b-4ba08c844e5e')\"\n",
              "            title=\"Suggest charts\"\n",
              "            style=\"display:none;\">\n",
              "\n",
              "<svg xmlns=\"http://www.w3.org/2000/svg\" height=\"24px\"viewBox=\"0 0 24 24\"\n",
              "     width=\"24px\">\n",
              "    <g>\n",
              "        <path d=\"M19 3H5c-1.1 0-2 .9-2 2v14c0 1.1.9 2 2 2h14c1.1 0 2-.9 2-2V5c0-1.1-.9-2-2-2zM9 17H7v-7h2v7zm4 0h-2V7h2v10zm4 0h-2v-4h2v4z\"/>\n",
              "    </g>\n",
              "</svg>\n",
              "  </button>\n",
              "\n",
              "<style>\n",
              "  .colab-df-quickchart {\n",
              "      --bg-color: #E8F0FE;\n",
              "      --fill-color: #1967D2;\n",
              "      --hover-bg-color: #E2EBFA;\n",
              "      --hover-fill-color: #174EA6;\n",
              "      --disabled-fill-color: #AAA;\n",
              "      --disabled-bg-color: #DDD;\n",
              "  }\n",
              "\n",
              "  [theme=dark] .colab-df-quickchart {\n",
              "      --bg-color: #3B4455;\n",
              "      --fill-color: #D2E3FC;\n",
              "      --hover-bg-color: #434B5C;\n",
              "      --hover-fill-color: #FFFFFF;\n",
              "      --disabled-bg-color: #3B4455;\n",
              "      --disabled-fill-color: #666;\n",
              "  }\n",
              "\n",
              "  .colab-df-quickchart {\n",
              "    background-color: var(--bg-color);\n",
              "    border: none;\n",
              "    border-radius: 50%;\n",
              "    cursor: pointer;\n",
              "    display: none;\n",
              "    fill: var(--fill-color);\n",
              "    height: 32px;\n",
              "    padding: 0;\n",
              "    width: 32px;\n",
              "  }\n",
              "\n",
              "  .colab-df-quickchart:hover {\n",
              "    background-color: var(--hover-bg-color);\n",
              "    box-shadow: 0 1px 2px rgba(60, 64, 67, 0.3), 0 1px 3px 1px rgba(60, 64, 67, 0.15);\n",
              "    fill: var(--button-hover-fill-color);\n",
              "  }\n",
              "\n",
              "  .colab-df-quickchart-complete:disabled,\n",
              "  .colab-df-quickchart-complete:disabled:hover {\n",
              "    background-color: var(--disabled-bg-color);\n",
              "    fill: var(--disabled-fill-color);\n",
              "    box-shadow: none;\n",
              "  }\n",
              "\n",
              "  .colab-df-spinner {\n",
              "    border: 2px solid var(--fill-color);\n",
              "    border-color: transparent;\n",
              "    border-bottom-color: var(--fill-color);\n",
              "    animation:\n",
              "      spin 1s steps(1) infinite;\n",
              "  }\n",
              "\n",
              "  @keyframes spin {\n",
              "    0% {\n",
              "      border-color: transparent;\n",
              "      border-bottom-color: var(--fill-color);\n",
              "      border-left-color: var(--fill-color);\n",
              "    }\n",
              "    20% {\n",
              "      border-color: transparent;\n",
              "      border-left-color: var(--fill-color);\n",
              "      border-top-color: var(--fill-color);\n",
              "    }\n",
              "    30% {\n",
              "      border-color: transparent;\n",
              "      border-left-color: var(--fill-color);\n",
              "      border-top-color: var(--fill-color);\n",
              "      border-right-color: var(--fill-color);\n",
              "    }\n",
              "    40% {\n",
              "      border-color: transparent;\n",
              "      border-right-color: var(--fill-color);\n",
              "      border-top-color: var(--fill-color);\n",
              "    }\n",
              "    60% {\n",
              "      border-color: transparent;\n",
              "      border-right-color: var(--fill-color);\n",
              "    }\n",
              "    80% {\n",
              "      border-color: transparent;\n",
              "      border-right-color: var(--fill-color);\n",
              "      border-bottom-color: var(--fill-color);\n",
              "    }\n",
              "    90% {\n",
              "      border-color: transparent;\n",
              "      border-bottom-color: var(--fill-color);\n",
              "    }\n",
              "  }\n",
              "</style>\n",
              "\n",
              "  <script>\n",
              "    async function quickchart(key) {\n",
              "      const quickchartButtonEl =\n",
              "        document.querySelector('#' + key + ' button');\n",
              "      quickchartButtonEl.disabled = true;  // To prevent multiple clicks.\n",
              "      quickchartButtonEl.classList.add('colab-df-spinner');\n",
              "      try {\n",
              "        const charts = await google.colab.kernel.invokeFunction(\n",
              "            'suggestCharts', [key], {});\n",
              "      } catch (error) {\n",
              "        console.error('Error during call to suggestCharts:', error);\n",
              "      }\n",
              "      quickchartButtonEl.classList.remove('colab-df-spinner');\n",
              "      quickchartButtonEl.classList.add('colab-df-quickchart-complete');\n",
              "    }\n",
              "    (() => {\n",
              "      let quickchartButtonEl =\n",
              "        document.querySelector('#df-9440c2e2-7a14-44cd-a66b-4ba08c844e5e button');\n",
              "      quickchartButtonEl.style.display =\n",
              "        google.colab.kernel.accessAllowed ? 'block' : 'none';\n",
              "    })();\n",
              "  </script>\n",
              "</div>\n",
              "\n",
              "    </div>\n",
              "  </div>\n"
            ],
            "application/vnd.google.colaboratory.intrinsic+json": {
              "type": "dataframe",
              "summary": "{\n  \"name\": \"data\",\n  \"rows\": 8,\n  \"fields\": [\n    {\n      \"column\": \"YearsExperience\",\n      \"properties\": {\n        \"dtype\": \"number\",\n        \"std\": 15.535696208986241,\n        \"min\": 1.4,\n        \"max\": 50.0,\n        \"num_unique_values\": 8,\n        \"samples\": [\n          9.48,\n          9.3,\n          50.0\n        ],\n        \"semantic_type\": \"\",\n        \"description\": \"\"\n      }\n    },\n    {\n      \"column\": \"Salary\",\n      \"properties\": {\n        \"dtype\": \"number\",\n        \"std\": 44194.160769863905,\n        \"min\": 50.0,\n        \"max\": 140646.44,\n        \"num_unique_values\": 8,\n        \"samples\": [\n          77370.5474,\n          78598.65,\n          50.0\n        ],\n        \"semantic_type\": \"\",\n        \"description\": \"\"\n      }\n    }\n  ]\n}"
            }
          },
          "metadata": {},
          "execution_count": 116
        },
        {
          "output_type": "display_data",
          "data": {
            "text/plain": [
              "<Figure size 640x480 with 1 Axes>"
            ],
            "image/png": "[encoded data removed]"
          },
          "metadata": {}
        }
      ]
    },
    {
      "cell_type": "code",
      "source": [
        "print(data.keys())"
      ],
      "metadata": {
        "colab": {
          "base_uri": "https://localhost:8080/"
        },
        "id": "HOjkbZCyHlDb",
        "outputId": "30ce0eb8-530b-4994-c3d2-f92fef42990b"
      },
      "execution_count": 117,
      "outputs": [
        {
          "output_type": "stream",
          "name": "stdout",
          "text": [
            "Index(['YearsExperience', 'Salary'], dtype='object')\n"
          ]
        }
      ]
    },
    {
      "cell_type": "code",
      "source": [
        "# build a linear regression model\n",
        "from sklearn.model_selection import train_test_split\n",
        "x=data['YearsExperience']\n",
        "y=data['Salary']\n",
        "x_train,x_test,y_train,y_test=train_test_split(x,y,test_size=0.2)\n",
        "from sklearn.linear_model import LinearRegression\n",
        "lr=LinearRegression()\n",
        "lr.fit(x_train.values.reshape(-1,1),y_train)\n",
        "print(lr.coef_ )\n",
        "print(lr.intercept_)\n",
        "\n"
      ],
      "metadata": {
        "colab": {
          "base_uri": "https://localhost:8080/"
        },
        "id": "lZbBuF9qHvbQ",
        "outputId": "f5ae6ebc-9150-4874-af72-50761167c9e3"
      },
      "execution_count": 118,
      "outputs": [
        {
          "output_type": "stream",
          "name": "stdout",
          "text": [
            "[4895.21970883]\n",
            "30488.831862722996\n"
          ]
        }
      ]
    },
    {
      "cell_type": "code",
      "source": [
        "lr.score(x_test.values.reshape(-1,1),y_test)\n"
      ],
      "metadata": {
        "colab": {
          "base_uri": "https://localhost:8080/"
        },
        "id": "eF-aWaV-pKn4",
        "outputId": "35dc8e9e-e73f-49e0-a572-dbd90896208f"
      },
      "execution_count": 119,
      "outputs": [
        {
          "output_type": "execute_result",
          "data": {
            "text/plain": [
              "0.8986504771577711"
            ]
          },
          "metadata": {},
          "execution_count": 119
        }
      ]
    },
    {
      "cell_type": "code",
      "source": [
        "##evaluate the model\n",
        "expected_values = lr.predict (x_test.values.reshape(-1,1))\n",
        "print(expected_values)\n"
      ],
      "metadata": {
        "colab": {
          "base_uri": "https://localhost:8080/"
        },
        "id": "gafzQrkgldkV",
        "outputId": "8666a8aa-2638-47f6-b670-62e6abe36d7a"
      },
      "execution_count": 125,
      "outputs": [
        {
          "output_type": "stream",
          "name": "stdout",
          "text": [
            "[ 40768.79325126  77972.46303835  51048.7546398   83357.20471806\n",
            "  63776.32588275  54964.93040686 123987.52830133  59370.62814481\n",
            "  92168.60019395  86294.33654336]\n"
          ]
        }
      ]
    },
    {
      "cell_type": "code",
      "source": [
        "from sklearn.metrics import mean_absolute_error as mae\n",
        "a= mae(y_test,expected_values)\n",
        "from sklearn.metrics import mean_squared_error as mse\n",
        "b= mse(y_test,expected_values)\n",
        "print(a)\n",
        "print(b)\n",
        "\n"
      ],
      "metadata": {
        "colab": {
          "base_uri": "https://localhost:8080/"
        },
        "id": "N28QS1iEogdh",
        "outputId": "2664b465-3a8c-4116-d6e8-4226953b9bfa"
      },
      "execution_count": 121,
      "outputs": [
        {
          "output_type": "stream",
          "name": "stdout",
          "text": [
            "6651.769114621685\n",
            "59723054.97345959\n"
          ]
        }
      ]
    },
    {
      "cell_type": "code",
      "source": [
        "plt.scatter(x_test,y_test,color='pink')\n",
        "plt.plot(x_test,expected_values)"
      ],
      "metadata": {
        "colab": {
          "base_uri": "https://localhost:8080/",
          "height": 447
        },
        "id": "PKWUd_raFopt",
        "outputId": "1babc01f-8e38-4dfc-ca7b-3be4c590a7b8"
      },
      "execution_count": 122,
      "outputs": [
        {
          "output_type": "execute_result",
          "data": {
            "text/plain": [
              "[<matplotlib.lines.Line2D at 0x7a2a4baf5240>]"
            ]
          },
          "metadata": {},
          "execution_count": 122
        },
        {
          "output_type": "display_data",
          "data": {
            "text/plain": [
              "<Figure size 640x480 with 1 Axes>"
            ],
            "image/png": "[encoded data removed]"
          },
          "metadata": {}
        }
      ]
    },
    {
      "cell_type": "code",
      "source": [
        "print(data)\n"
      ],
      "metadata": {
        "colab": {
          "base_uri": "https://localhost:8080/"
        },
        "id": "a27RNX_qGss3",
        "outputId": "403d132d-adec-413c-c343-ae64c779e33b"
      },
      "execution_count": 123,
      "outputs": [
        {
          "output_type": "stream",
          "name": "stdout",
          "text": [
            "    YearsExperience     Salary\n",
            "0               8.1   77884.67\n",
            "1              19.1  127213.68\n",
            "2              14.9  103343.52\n",
            "3              12.4   88988.96\n",
            "4               4.0   35214.78\n",
            "5               4.0   42801.56\n",
            "6               2.1   35893.61\n",
            "7              17.5  128071.22\n",
            "8              12.4   95436.18\n",
            "9              14.5   84869.60\n",
            "10              1.4   40240.84\n",
            "11             19.4  123149.18\n",
            "12             16.8  107230.78\n",
            "13              5.0   61116.76\n",
            "14              4.5   62810.00\n",
            "15              4.5   61812.80\n",
            "16              6.8   55607.82\n",
            "17             11.0   81907.88\n",
            "18              9.2   79312.63\n",
            "19              6.5   72255.45\n",
            "20             12.6   88208.26\n",
            "21              3.7   46643.41\n",
            "22              6.6   51936.65\n",
            "23              8.0   58037.93\n",
            "24              9.7   86625.26\n",
            "25             15.9  123062.40\n",
            "26              4.8   53279.90\n",
            "27             10.8   94035.33\n",
            "28             12.3   95116.36\n",
            "29              1.9   33048.80\n",
            "30             12.5   96113.96\n",
            "31              4.2   66380.37\n",
            "32              2.2   40641.74\n",
            "33             19.0  140646.44\n",
            "34             19.3  100302.55\n",
            "35             16.4  120219.03\n",
            "36              6.8   64870.47\n",
            "37              2.9   41509.93\n",
            "38             14.0  100917.61\n",
            "39              9.4   57124.31\n",
            "40              3.3   44303.28\n",
            "41             10.4   85571.13\n",
            "42              1.7   53278.94\n",
            "43             18.3  116317.30\n",
            "44              5.9   51415.06\n",
            "45             13.6   92982.43\n",
            "46              6.9   73654.02\n",
            "47             10.9   87787.51\n",
            "48             11.4   81702.40\n",
            "49              4.5   57632.67\n"
          ]
        }
      ]
    },
    {
      "cell_type": "code",
      "source": [
        "data['NumProjectsCompleted']=data['YearsExperience']*2\n",
        "data['NumProjectsCompleted']=data['NumProjectsCompleted']. astype(int)\n",
        "print(data)"
      ],
      "metadata": {
        "colab": {
          "base_uri": "https://localhost:8080/"
        },
        "id": "j68DCbLiXsB9",
        "outputId": "34d145af-3c0e-4c74-e504-40ebed7c8014"
      },
      "execution_count": 124,
      "outputs": [
        {
          "output_type": "stream",
          "name": "stdout",
          "text": [
            "    YearsExperience     Salary  NumProjectsCompleted\n",
            "0               8.1   77884.67                    16\n",
            "1              19.1  127213.68                    38\n",
            "2              14.9  103343.52                    29\n",
            "3              12.4   88988.96                    24\n",
            "4               4.0   35214.78                     8\n",
            "5               4.0   42801.56                     8\n",
            "6               2.1   35893.61                     4\n",
            "7              17.5  128071.22                    35\n",
            "8              12.4   95436.18                    24\n",
            "9              14.5   84869.60                    29\n",
            "10              1.4   40240.84                     2\n",
            "11             19.4  123149.18                    38\n",
            "12             16.8  107230.78                    33\n",
            "13              5.0   61116.76                    10\n",
            "14              4.5   62810.00                     9\n",
            "15              4.5   61812.80                     9\n",
            "16              6.8   55607.82                    13\n",
            "17             11.0   81907.88                    22\n",
            "18              9.2   79312.63                    18\n",
            "19              6.5   72255.45                    13\n",
            "20             12.6   88208.26                    25\n",
            "21              3.7   46643.41                     7\n",
            "22              6.6   51936.65                    13\n",
            "23              8.0   58037.93                    16\n",
            "24              9.7   86625.26                    19\n",
            "25             15.9  123062.40                    31\n",
            "26              4.8   53279.90                     9\n",
            "27             10.8   94035.33                    21\n",
            "28             12.3   95116.36                    24\n",
            "29              1.9   33048.80                     3\n",
            "30             12.5   96113.96                    25\n",
            "31              4.2   66380.37                     8\n",
            "32              2.2   40641.74                     4\n",
            "33             19.0  140646.44                    38\n",
            "34             19.3  100302.55                    38\n",
            "35             16.4  120219.03                    32\n",
            "36              6.8   64870.47                    13\n",
            "37              2.9   41509.93                     5\n",
            "38             14.0  100917.61                    28\n",
            "39              9.4   57124.31                    18\n",
            "40              3.3   44303.28                     6\n",
            "41             10.4   85571.13                    20\n",
            "42              1.7   53278.94                     3\n",
            "43             18.3  116317.30                    36\n",
            "44              5.9   51415.06                    11\n",
            "45             13.6   92982.43                    27\n",
            "46              6.9   73654.02                    13\n",
            "47             10.9   87787.51                    21\n",
            "48             11.4   81702.40                    22\n",
            "49              4.5   57632.67                     9\n"
          ]
        }
      ]
    }
  ]
}