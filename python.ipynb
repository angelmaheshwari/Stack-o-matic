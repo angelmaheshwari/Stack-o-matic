{
  "nbformat": 4,
  "nbformat_minor": 0,
  "metadata": {
    "colab": {
      "provenance": [],
      "authorship_tag": "ABX9TyNCWJcZnukKbamo5iRlnVxi",
      "include_colab_link": true
    },
    "kernelspec": {
      "name": "python3",
      "display_name": "Python 3"
    },
    "language_info": {
      "name": "python"
    }
  },
  "cells": [
    {
      "cell_type": "markdown",
      "metadata": {
        "id": "view-in-github",
        "colab_type": "text"
      },
      "source": [
        "<a href=\"https://colab.research.google.com/github/angelmaheshwari/Stack-o-matic/blob/main/python.ipynb\" target=\"_parent\"><img src=\"https://colab.research.google.com/assets/colab-badge.svg\" alt=\"Open In Colab\"/></a>"
      ]
    },
    {
      "cell_type": "code",
      "execution_count": null,
      "metadata": {
        "id": "Epa7zEzgY3l4"
      },
      "outputs": [],
      "source": [
        "#loops and conditional 2(a)\n",
        "i = 3\n",
        "while i <= 50:\n",
        "     print(i*\"Fizz\")\n",
        "     i = i + 3\n",
        "\n",
        "#2(b)\n",
        "i = 5\n",
        "while i<=50:\n",
        "     print(i*\"Buzz\")\n",
        "     i = i +5\n",
        "\n"
      ]
    },
    {
      "cell_type": "code",
      "source": [
        "#2(c)\n",
        "i=1\n",
        "\n",
        "while i<=100:\n",
        " i=i+1\n",
        " if i%3==0 or  i%5==0:\n",
        "   print(i*\"FizzBuzz\")\n",
        "\n"
      ],
      "metadata": {
        "id": "Cz0O39Y_3f-d"
      },
      "execution_count": null,
      "outputs": []
    },
    {
      "cell_type": "code",
      "source": [
        "x=input(\"x\")\n",
        "y=input(\"y\")\n",
        "\n",
        "try:\n",
        " div = int(x)/int(y)\n",
        " print(div)\n",
        "except ZeroDivisionError :\n",
        "  print (\"divion by zero is not defined\")\n",
        "\n",
        "\n",
        "\n",
        "\n"
      ],
      "metadata": {
        "id": "w9nnbcRMR1Gh"
      },
      "execution_count": null,
      "outputs": []
    },
    {
      "cell_type": "code",
      "source": [
        "#fibonacci series\n",
        "a=0\n",
        "b=1\n",
        "c=a+b\n",
        "while c<=100:\n",
        " print (c)\n",
        " a=b\n",
        " b=c\n",
        " c=a+b"
      ],
      "metadata": {
        "id": "sLDADBASo9Uz"
      },
      "execution_count": null,
      "outputs": []
    },
    {
      "cell_type": "code",
      "source": [
        "##to find median value\n",
        "import numpy as np\n",
        "input_user = input(\"enter elements separated by spaces :\").split()\n",
        "input_user.sort()\n",
        "\n",
        "n=len(input_user)\n",
        "if (n%2)==0:\n",
        "  m1=input_user[n//2 -1]\n",
        "  m2=input_user[n//2]\n",
        "  median =(int(m1)+int(m2))/2\n",
        "  print(median)\n",
        "else :\n",
        "  median=input_user[n//2]\n",
        "  print(median)\n"
      ],
      "metadata": {
        "id": "Rrd31BwHc-bh"
      },
      "execution_count": null,
      "outputs": []
    },
    {
      "cell_type": "code",
      "source": [
        "##to find average\n",
        "import numpy as np\n",
        "abc = input(\"enter elementsseparatedbyspaces:  \").split()\n",
        "xyz= [int(i) for i in abc]\n",
        "avg = np.mean(xyz)\n",
        "print(avg)"
      ],
      "metadata": {
        "id": "7Dy5FX1k9rox"
      },
      "execution_count": null,
      "outputs": []
    }
  ]
}